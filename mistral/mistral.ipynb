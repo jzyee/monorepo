{
 "cells": [
  {
   "cell_type": "code",
   "execution_count": 2,
   "metadata": {},
   "outputs": [
    {
     "name": "stdout",
     "output_type": "stream",
     "text": [
      "PyTorch version: 2.1.2+cu121\n",
      "**********\n",
      "_CUDA version: \n",
      "nvcc: NVIDIA (R) Cuda compiler driver\n",
      "Copyright (c) 2005-2023 NVIDIA Corporation\n",
      "Built on Tue_Jun_13_19:42:34_Pacific_Daylight_Time_2023\n",
      "Cuda compilation tools, release 12.2, V12.2.91\n",
      "Build cuda_12.2.r12.2/compiler.32965470_0\n",
      "**********\n",
      "CUDNN version: 8801\n",
      "Available GPU devices: 1\n",
      "Device Name: NVIDIA GeForce RTX 3080\n"
     ]
    }
   ],
   "source": [
    "import torch\n",
    "print(f'PyTorch version: {torch.__version__}')\n",
    "print('*'*10)\n",
    "print(f'_CUDA version: ')\n",
    "!nvcc --version\n",
    "print('*'*10)\n",
    "print(f'CUDNN version: {torch.backends.cudnn.version()}')\n",
    "print(f'Available GPU devices: {torch.cuda.device_count()}')\n",
    "print(f'Device Name: {torch.cuda.get_device_name()}')"
   ]
  },
  {
   "cell_type": "code",
   "execution_count": 4,
   "metadata": {},
   "outputs": [
    {
     "name": "stderr",
     "output_type": "stream",
     "text": [
      "c:\\Users\\Admin\\Documents\\code\\monorepo\\mistral_env\\lib\\site-packages\\tqdm\\auto.py:21: TqdmWarning: IProgress not found. Please update jupyter and ipywidgets. See https://ipywidgets.readthedocs.io/en/stable/user_install.html\n",
      "  from .autonotebook import tqdm as notebook_tqdm\n",
      "config.json: 100%|██████████| 571/571 [00:00<?, ?B/s] \n",
      "c:\\Users\\Admin\\Documents\\code\\monorepo\\mistral_env\\lib\\site-packages\\huggingface_hub\\file_download.py:149: UserWarning: `huggingface_hub` cache-system uses symlinks by default to efficiently store duplicated files but your machine does not support them in C:\\Users\\Admin\\.cache\\huggingface\\hub\\models--mistralai--Mistral-7B-v0.1. Caching files will still work but in a degraded version that might require more space on your disk. This warning can be disabled by setting the `HF_HUB_DISABLE_SYMLINKS_WARNING` environment variable. For more details, see https://huggingface.co/docs/huggingface_hub/how-to-cache#limitations.\n",
      "To support symlinks on Windows, you either need to activate Developer Mode or to run Python as an administrator. In order to see activate developer mode, see this article: https://docs.microsoft.com/en-us/windows/apps/get-started/enable-your-device-for-development\n",
      "  warnings.warn(message)\n",
      "model.safetensors.index.json: 100%|██████████| 25.1k/25.1k [00:00<00:00, 25.0MB/s]\n",
      "model-00001-of-00002.safetensors: 100%|██████████| 9.94G/9.94G [04:39<00:00, 35.6MB/s]\n",
      "model-00002-of-00002.safetensors: 100%|██████████| 4.54G/4.54G [02:02<00:00, 37.2MB/s]\n",
      "Downloading shards: 100%|██████████| 2/2 [06:42<00:00, 201.09s/it]\n",
      "Loading checkpoint shards: 100%|██████████| 2/2 [00:07<00:00,  3.64s/it]\n",
      "generation_config.json: 100%|██████████| 116/116 [00:00<?, ?B/s] \n",
      "tokenizer_config.json: 100%|██████████| 967/967 [00:00<?, ?B/s] \n",
      "tokenizer.model: 100%|██████████| 493k/493k [00:00<00:00, 35.0MB/s]\n",
      "tokenizer.json: 100%|██████████| 1.80M/1.80M [00:01<00:00, 1.44MB/s]\n",
      "special_tokens_map.json: 100%|██████████| 72.0/72.0 [00:00<00:00, 144kB/s]\n",
      "Setting `pad_token_id` to `eos_token_id`:2 for open-end generation.\n"
     ]
    },
    {
     "data": {
      "text/plain": [
       "'<s> My favourite condiment is Worcestershire sauce. The stuff is amazing. It has been manufactured in England since the early 19th century and it is probably one of the earliest mass produced (and still very popular) consumer condiments…\\n\\nToday, I am using it in something I think is fantastic: 5-Spice Pork Roast.\\n\\nThis recipe came from my mom and it is so, so very good. We first had this one Thanksgiving many years ago and my'"
      ]
     },
     "execution_count": 4,
     "metadata": {},
     "output_type": "execute_result"
    }
   ],
   "source": [
    "from transformers import AutoModelForCausalLM, AutoTokenizer\n",
    "device = \"cuda\" # the device to load the model onto\n",
    "\n",
    "model = AutoModelForCausalLM.from_pretrained(\"mistralai/Mistral-7B-v0.1\")\n",
    "tokenizer = AutoTokenizer.from_pretrained(\"mistralai/Mistral-7B-v0.1\")\n",
    "\n",
    "prompt = \"My favourite condiment is\"\n",
    "\n",
    "model_inputs = tokenizer([prompt], return_tensors=\"pt\").to(device)\n",
    "model.to(device)\n",
    "\n",
    "generated_ids = model.generate(**model_inputs, max_new_tokens=100, do_sample=True)\n",
    "tokenizer.batch_decode(generated_ids)[0]"
   ]
  },
  {
   "cell_type": "code",
   "execution_count": 19,
   "metadata": {},
   "outputs": [
    {
     "name": "stderr",
     "output_type": "stream",
     "text": [
      "Setting `pad_token_id` to `eos_token_id`:2 for open-end generation.\n"
     ]
    },
    {
     "data": {
      "text/plain": [
       "\"<s> a passenger safety incident has occured at a the Wembley train station on monday, 15 January 2024\\na fire has been noted on the train tracks at 5pm, 15 January 2024.\\nJohn Doe was sported on the tracks at 4:58pm, 15 January 2024.\\nTrain station staff noted that birds were seen circling the burnt dead body at 5:20pm, 15 January 2024.\\nDetectives at the scene noted that video footage show Jonh Doe traversing to the track by himself.\\ncoronor report states that John Doe died from electricution\\nmaintenance of the tracks at Wembley station have been due for the last 5 years\\nAssume the role of a police detective, identify the root cause of the passenger safety incident from the text.\\nI will be providing you with 4 hypothesis:\\n1. Birds of prey are attacking a bird on the track.\\n2. Birds of prey are trying to distract the police from a body on the track.\\n3. There is no train running at this station as there is an issue with maintaining and cleaning the tracks.\\n4. John Doe died from falling into the electricity tracks.\\nThe bird hypothesis should be addressed in this first reply.\\nBirds of prey are attacking a bird on the track.\\nBirds of prey are trying to distract the police from a body on the track.\\nIf these were found to be true by you in a scenario, identify what you would do.\\n\\nthe police, train station staff and the maintenance team are all working hard to help get john doe's death case closed as fast as possible for the public to feel secure about using public transportation on the train.</s>\""
      ]
     },
     "execution_count": 19,
     "metadata": {},
     "output_type": "execute_result"
    }
   ],
   "source": [
    "prompt = \"a passenger safety incident has occured at a the Wembley train station on monday, 15 January 2024\\n\"\\\n",
    "      \"a fire has been noted on the train tracks at 5pm, 15 January 2024.\\n\"\\\n",
    "      \"John Doe was sported on the tracks at 4:58pm, 15 January 2024.\\n\"\\\n",
    "      \"Train station staff noted that birds were seen circling the burnt dead body at 5:20pm, 15 January 2024.\\n\"\\\n",
    "      \"Detectives at the scene noted that video footage show Jonh Doe traversing to the track by himself.\\n\"\\\n",
    "      \"coronor report states that John Doe died from electricution\\n\"\\\n",
    "      \"maintenance of the tracks at Wembley station have been due for the last 5 years\\n\"\\\n",
    "      \"Assume the role of a police detective, identify the root cause of the passenger safety incident from the text.\"\n",
    "\n",
    "model_inputs = tokenizer([prompt], return_tensors=\"pt\").to(device)\n",
    "model.to(device)\n",
    "\n",
    "generated_ids = model.generate(**model_inputs, max_new_tokens=200, do_sample=True)\n",
    "tokenizer.batch_decode(generated_ids)[0]"
   ]
  },
  {
   "cell_type": "code",
   "execution_count": 20,
   "metadata": {},
   "outputs": [
    {
     "name": "stdout",
     "output_type": "stream",
     "text": [
      "('<s> a passenger safety incident has occured at a the Wembley train station '\n",
      " 'on monday, 15 January 2024\\n'\n",
      " 'a fire has been noted on the train tracks at 5pm, 15 January 2024.\\n'\n",
      " 'John Doe was sported on the tracks at 4:58pm, 15 January 2024.\\n'\n",
      " 'Train station staff noted that birds were seen circling the burnt dead body '\n",
      " 'at 5:20pm, 15 January 2024.\\n'\n",
      " 'Detectives at the scene noted that video footage show Jonh Doe traversing to '\n",
      " 'the track by himself.\\n'\n",
      " 'coronor report states that John Doe died from electricution\\n'\n",
      " 'maintenance of the tracks at Wembley station have been due for the last 5 '\n",
      " 'years\\n'\n",
      " 'Assume the role of a police detective, identify the root cause of the '\n",
      " 'passenger safety incident from the text.\\n'\n",
      " 'I will be providing you with 4 hypothesis:\\n'\n",
      " '1. Birds of prey are attacking a bird on the track.\\n'\n",
      " '2. Birds of prey are trying to distract the police from a body on the '\n",
      " 'track.\\n'\n",
      " '3. There is no train running at this station as there is an issue with '\n",
      " 'maintaining and cleaning the tracks.\\n'\n",
      " '4. John Doe died from falling into the electricity tracks.\\n'\n",
      " 'The bird hypothesis should be addressed in this first reply.\\n'\n",
      " 'Birds of prey are attacking a bird on the track.\\n'\n",
      " 'Birds of prey are trying to distract the police from a body on the track.\\n'\n",
      " 'If these were found to be true by you in a scenario, identify what you would '\n",
      " 'do.\\n'\n",
      " '\\n'\n",
      " 'the police, train station staff and the maintenance team are all working '\n",
      " \"hard to help get john doe's death case closed as fast as possible for the \"\n",
      " 'public to feel secure about using public transportation on the train.</s>')\n"
     ]
    }
   ],
   "source": [
    "import pprint \n",
    "pp = pprint.PrettyPrinter(indent=4)\n",
    "pp.pprint(tokenizer.batch_decode(generated_ids)[0])"
   ]
  },
  {
   "cell_type": "code",
   "execution_count": 18,
   "metadata": {},
   "outputs": [
    {
     "data": {
      "text/plain": [
       "'<s> a passenger safety incident has occured at a the Wembley train station on monday, 15 January 2024\\na fire has been noted on the train tracks at 5pm, 15 January 2024.\\nJohn Doe was sported on the tracks at 4:58pm, 15 January 2024.\\nTrain station staff noted that birds were seen circling the burnt dead body at 5:20pm, 15 January 2024.\\nDetectives at the scene noted that video footage show Jonh Doe traversing to the track by himself.\\ncoronor report states that John Doe died from electricution\\nmaintenance of the tracks at Wembley station have been due for the last 5 years\\nAssume the role of a police detective, identify the root cause of the passenger safety incident from the text.\\n\\nWhat is the root cause of the passenger safety incident?</s>'"
      ]
     },
     "execution_count": 18,
     "metadata": {},
     "output_type": "execute_result"
    }
   ],
   "source": [
    "tokenizer.batch_decode(generated_ids)[0]"
   ]
  },
  {
   "cell_type": "code",
   "execution_count": null,
   "metadata": {},
   "outputs": [],
   "source": []
  }
 ],
 "metadata": {
  "kernelspec": {
   "display_name": "mistral_env",
   "language": "python",
   "name": "python3"
  },
  "language_info": {
   "codemirror_mode": {
    "name": "ipython",
    "version": 3
   },
   "file_extension": ".py",
   "mimetype": "text/x-python",
   "name": "python",
   "nbconvert_exporter": "python",
   "pygments_lexer": "ipython3",
   "version": "3.10.11"
  }
 },
 "nbformat": 4,
 "nbformat_minor": 2
}
